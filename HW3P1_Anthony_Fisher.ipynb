{
  "nbformat": 4,
  "nbformat_minor": 0,
  "metadata": {
    "colab": {
      "name": "HW3P1_Anthony_Fisher.ipynb",
      "provenance": [],
      "collapsed_sections": [],
      "authorship_tag": "ABX9TyMHtJROQlZuWnvJwTVS4DPp",
      "include_colab_link": true
    },
    "kernelspec": {
      "name": "python3",
      "display_name": "Python 3"
    },
    "language_info": {
      "name": "python"
    }
  },
  "cells": [
    {
      "cell_type": "markdown",
      "metadata": {
        "id": "view-in-github",
        "colab_type": "text"
      },
      "source": [
        "<a href=\"https://colab.research.google.com/github/antwon87/CMPE258_HW3/blob/main/HW3P1_Anthony_Fisher.ipynb\" target=\"_parent\"><img src=\"https://colab.research.google.com/assets/colab-badge.svg\" alt=\"Open In Colab\"/></a>"
      ]
    },
    {
      "cell_type": "code",
      "metadata": {
        "id": "10pw6JHOwYd-"
      },
      "source": [
        "import numpy as np\n",
        "from sklearn import model_selection, datasets\n",
        "import tensorflow as tf\n",
        "from tensorflow.keras import layers, models"
      ],
      "execution_count": 39,
      "outputs": []
    },
    {
      "cell_type": "markdown",
      "metadata": {
        "id": "OPMVPaSOxN3_"
      },
      "source": [
        "### Load Data"
      ]
    },
    {
      "cell_type": "code",
      "metadata": {
        "id": "2rygYgLBx3g4"
      },
      "source": [
        "# Generate random fake dataset. For simplicity, using 1000 samples instead of the 10 million described in the problem.\n",
        "# Each sample has 25 features.\n",
        "X, y = datasets.make_regression(n_samples=1000, n_features=25, noise=0.1, random_state=87)\n",
        "# print(X.shape)\n",
        "\n",
        "# Split data into training and test sets with 10% of the data in the test set.\n",
        "X_train, X_test, y_train, y_test = model_selection.train_test_split(X, y, test_size=0.1, shuffle=True, random_state=16)\n",
        "print(X_train.shape, X_test.shape)"
      ],
      "execution_count": 40,
      "outputs": []
    },
    {
      "cell_type": "markdown",
      "metadata": {
        "id": "7t6bFtt4z2ke"
      },
      "source": [
        "### Build Model"
      ]
    },
    {
      "cell_type": "code",
      "metadata": {
        "colab": {
          "base_uri": "https://localhost:8080/"
        },
        "id": "TjZvIeIQ1FPP",
        "outputId": "d6ee2772-2a7a-4c5b-f964-3dd5960c27d3"
      },
      "source": [
        "# Building a 3-layer densely connected neural network.\n",
        "# Using dropout layers for regularization.\n",
        "model = models.Sequential()\n",
        "model.add(layers.Dense(50, activation='relu', kernel_initializer='normal', input_dim=25))\n",
        "model.add(layers.Dropout(0.3))\n",
        "model.add(layers.Dense(25, activation='relu', kernel_initializer='normal',))\n",
        "model.add(layers.Dropout(0.3))\n",
        "model.add(layers.Dense(1, activation='linear', kernel_initializer='normal',))\n",
        "\n",
        "model.summary()"
      ],
      "execution_count": 41,
      "outputs": [
        {
          "output_type": "stream",
          "name": "stdout",
          "text": [
            "Model: \"sequential_13\"\n",
            "_________________________________________________________________\n",
            " Layer (type)                Output Shape              Param #   \n",
            "=================================================================\n",
            " dense_32 (Dense)            (None, 50)                1300      \n",
            "                                                                 \n",
            " dropout_19 (Dropout)        (None, 50)                0         \n",
            "                                                                 \n",
            " dense_33 (Dense)            (None, 25)                1275      \n",
            "                                                                 \n",
            " dropout_20 (Dropout)        (None, 25)                0         \n",
            "                                                                 \n",
            " dense_34 (Dense)            (None, 1)                 26        \n",
            "                                                                 \n",
            "=================================================================\n",
            "Total params: 2,601\n",
            "Trainable params: 2,601\n",
            "Non-trainable params: 0\n",
            "_________________________________________________________________\n"
          ]
        }
      ]
    },
    {
      "cell_type": "markdown",
      "metadata": {
        "id": "MKqXEXGZ5xzM"
      },
      "source": [
        "### Compile and Train Model"
      ]
    },
    {
      "cell_type": "code",
      "metadata": {
        "id": "o4Z9eI8J5zrf"
      },
      "source": [
        "model.compile(optimizer='adam',\n",
        "              loss='mse',\n",
        "              metrics=['mse'])\n",
        "\n",
        "# Train the model for 1000 iterations.\n",
        "model.fit(X_train, y_train, epochs=1000, validation_split=0.2)"
      ],
      "execution_count": null,
      "outputs": []
    }
  ]
}