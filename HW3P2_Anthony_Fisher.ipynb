{
  "nbformat": 4,
  "nbformat_minor": 0,
  "metadata": {
    "colab": {
      "name": "HW3P2_Anthony_Fisher.ipynb",
      "provenance": [],
      "collapsed_sections": [],
      "authorship_tag": "ABX9TyMOJ0Z2X6jBCOTdegUdAXa7",
      "include_colab_link": true
    },
    "kernelspec": {
      "name": "python3",
      "display_name": "Python 3"
    },
    "language_info": {
      "name": "python"
    }
  },
  "cells": [
    {
      "cell_type": "markdown",
      "metadata": {
        "id": "view-in-github",
        "colab_type": "text"
      },
      "source": [
        "<a href=\"https://colab.research.google.com/github/antwon87/CMPE258_HW3/blob/main/HW3P2_Anthony_Fisher.ipynb\" target=\"_parent\"><img src=\"https://colab.research.google.com/assets/colab-badge.svg\" alt=\"Open In Colab\"/></a>"
      ]
    },
    {
      "cell_type": "markdown",
      "metadata": {
        "id": "j20ZDP7tAZCP"
      },
      "source": [
        "# CMPE258 Homework 3 - Problem 2\n",
        "Anthony Fisher (015310789)  \n",
        "11/27/21"
      ]
    },
    {
      "cell_type": "code",
      "metadata": {
        "id": "10pw6JHOwYd-"
      },
      "source": [
        "import numpy as np\n",
        "import tensorflow as tf\n",
        "from tensorflow.keras import layers, models"
      ],
      "execution_count": 2,
      "outputs": []
    },
    {
      "cell_type": "markdown",
      "metadata": {
        "id": "7t6bFtt4z2ke"
      },
      "source": [
        "### Build Model"
      ]
    },
    {
      "cell_type": "markdown",
      "metadata": {
        "id": "LftszZpXTTx_"
      },
      "source": [
        "The yolo-like model will take 127x127 RGB images as inputs. It will break the input image into an 8x8 grid with 2 anchors. There are 20 classes. The output will be 8x8x50. The depth of the output (D) is calculated from the number of anchors (B) and classes (C) using the following equation: D = B \\* (5 + C). The constant 5 is for the probability that an object is present and the four bounding box measures. Some sources say that the equation should be D = (B \\* 5) + C. I'm not sure why, but it looks like it may just be a difference between YOLOv2 and YOLOv3.  \n",
        "  \n",
        "A padding layer is used on the input to increase the image dimensions to 128x128 so that it can then be scaled down by factors of 2 and reach the desired output grid size of 8x8.  \n",
        "  \n",
        "All layers except the last use the leaky ReLU activation function. The last uses a sigmoid to scale the outputs between 0 and 1, as discussed in source [2]."
      ]
    },
    {
      "cell_type": "code",
      "metadata": {
        "colab": {
          "base_uri": "https://localhost:8080/"
        },
        "id": "TjZvIeIQ1FPP",
        "outputId": "1ddec528-c816-46bc-8249-d70705da0899"
      },
      "source": [
        "# Building a convolutional neural network for object detection.\n",
        "# Input RGB images have dimensions 127x127x3.\n",
        "\n",
        "model = models.Sequential()\n",
        "model.add(layers.ZeroPadding2D(padding=((1, 0), (1, 0)), input_shape=(127, 127, 3)))\n",
        "model.add(layers.Conv2D(64, (8, 8), activation='leaky_relu', strides=(2, 2), padding='same'))\n",
        "model.add(layers.MaxPool2D((2, 2), strides=2))\n",
        "model.add(layers.Conv2D(256, (3, 3), activation='leaky_relu', padding='same'))\n",
        "model.add(layers.MaxPool2D((2, 2), strides=2))\n",
        "model.add(layers.Conv2D(128, (1, 1), activation='leaky_relu', padding='same'))\n",
        "model.add(layers.MaxPool2D((2, 2), strides=2))\n",
        "model.add(layers.Conv2D(1024, (3, 3), activation='leaky_relu', padding='same'))\n",
        "model.add(layers.Conv2D(50, (1, 1), activation='sigmoid', padding='same'))\n",
        "\n",
        "model.summary()"
      ],
      "execution_count": 37,
      "outputs": [
        {
          "output_type": "stream",
          "name": "stdout",
          "text": [
            "Model: \"sequential_28\"\n",
            "_________________________________________________________________\n",
            " Layer (type)                Output Shape              Param #   \n",
            "=================================================================\n",
            " zero_padding2d_11 (ZeroPadd  (None, 128, 128, 3)      0         \n",
            " ing2D)                                                          \n",
            "                                                                 \n",
            " conv2d_64 (Conv2D)          (None, 64, 64, 64)        12352     \n",
            "                                                                 \n",
            " max_pooling2d_51 (MaxPoolin  (None, 32, 32, 64)       0         \n",
            " g2D)                                                            \n",
            "                                                                 \n",
            " conv2d_65 (Conv2D)          (None, 32, 32, 256)       147712    \n",
            "                                                                 \n",
            " max_pooling2d_52 (MaxPoolin  (None, 16, 16, 256)      0         \n",
            " g2D)                                                            \n",
            "                                                                 \n",
            " conv2d_66 (Conv2D)          (None, 16, 16, 128)       32896     \n",
            "                                                                 \n",
            " max_pooling2d_53 (MaxPoolin  (None, 8, 8, 128)        0         \n",
            " g2D)                                                            \n",
            "                                                                 \n",
            " conv2d_67 (Conv2D)          (None, 8, 8, 1024)        1180672   \n",
            "                                                                 \n",
            " conv2d_68 (Conv2D)          (None, 8, 8, 50)          51250     \n",
            "                                                                 \n",
            "=================================================================\n",
            "Total params: 1,424,882\n",
            "Trainable params: 1,424,882\n",
            "Non-trainable params: 0\n",
            "_________________________________________________________________\n"
          ]
        }
      ]
    },
    {
      "cell_type": "markdown",
      "metadata": {
        "id": "DLah1NXRVPf0"
      },
      "source": [
        "#### Sources"
      ]
    },
    {
      "cell_type": "markdown",
      "metadata": {
        "id": "MucI1XdWVRHb"
      },
      "source": [
        "\n",
        "\n",
        "1.   https://hackernoon.com/understanding-yolo-f5a74bbc7967\n",
        "2.   https://blog.paperspace.com/how-to-implement-a-yolo-object-detector-in-pytorch/\n",
        "3.   https://jonathan-hui.medium.com/real-time-object-detection-with-yolo-yolov2-28b1b93e2088"
      ]
    }
  ]
}